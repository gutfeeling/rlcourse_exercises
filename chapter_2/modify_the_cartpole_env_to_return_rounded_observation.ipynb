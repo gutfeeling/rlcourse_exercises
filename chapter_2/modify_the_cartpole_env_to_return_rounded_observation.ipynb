{
 "cells": [
  {
   "cell_type": "markdown",
   "metadata": {},
   "source": [
    "# Wrap the `CartPole-v0` environment to return rounded observation\n",
    "\n",
    "In the last lesson, we learned how to modify a `gym` environment by using wrappers. We we will use this superpower often in this course.\n",
    "\n",
    "For your reference, I have put the wrapper we used to modify the initialization scheme in `CartPole-v0` in the next cell. You can run the 2 cells below if you want."
   ]
  },
  {
   "cell_type": "code",
   "execution_count": null,
   "metadata": {},
   "outputs": [],
   "source": [
    "import gym\n",
    "\n",
    "class InitMod(gym.Wrapper):\n",
    "    def __init__(self, env, initial_state):\n",
    "        super().__init__(env)\n",
    "        self.initial_state = initial_state\n",
    "        \n",
    "    def reset(self):\n",
    "        observation = self.env.reset()\n",
    "        self.unwrapped.state = self.initial_state\n",
    "        return self.unwrapped.state"
   ]
  },
  {
   "cell_type": "code",
   "execution_count": null,
   "metadata": {},
   "outputs": [],
   "source": [
    "import numpy as np\n",
    "pole_right_init_cartpole_env = InitMod(env=gym.make(\"CartPole-v0\"), initial_state=np.array([0, 0.01, 0.15, 0]))"
   ]
  },
  {
   "cell_type": "markdown",
   "metadata": {},
   "source": [
    "## In this exercise, your job will be to write a wrapper `RoundObservation` that rounds the elements of the observation to a number of decimal places. \n",
    "\n",
    "The wrapper should work as follows.\n",
    "\n",
    "1. You should be able to create a wrapped environment with the following code.\n",
    "\n",
    "    ```\n",
    "    rounded_observation_cartpole_env = RoundObservation(env=gym.make(\"CartPole-v0\"), decimals=2)\n",
    "    ```\n",
    "\n",
    "2. The following code \n",
    "\n",
    "    ```\n",
    "    observation = rounded_observation_cartpole_env.reset()\n",
    "    print(observation)\n",
    "    ```\n",
    "\n",
    "    should output something like\n",
    "\n",
    "    ```\n",
    "    [-0.05  0.03  0.03 -0.04]\n",
    "    ```\n",
    "\n",
    "    Here, the exact values are unimportant but **notice how the elements of the observation have been rounded upto the second decimal place**.\n",
    "\n",
    "3. Subsequently, the following code\n",
    "\n",
    "\n",
    "    ```\n",
    "    observation, reward, done, _ = rounded_observation_cartpole_env.step(0)\n",
    "    print(observation)\n",
    "    ```\n",
    "\n",
    "    should output something like\n",
    "\n",
    "    ```\n",
    "    [-0.04 -0.16  0.03  0.26]\n",
    "    ```\n",
    "    \n",
    "    Notice again how the elements of the observation have been rounded upto the second decimal place.\n",
    "    \n",
    "### Hints\n",
    "\n",
    "1. Since the observation is returned by both `reset()` and `step()` method, you would need to override both these functions in the wrapper to return rounded observation. \n",
    "\n",
    "2. For rounding, the `numpy.around()` function might be useful. Here's the [documentation](https://numpy.org/doc/stable/reference/generated/numpy.around.html?highlight=around#numpy.around) for that function.\n",
    "\n",
    "3. To accept the number of decimal places as a argument to the wrapper, you will also need to override the `__init__()` method.  \n",
    "\n",
    "Are you ready to define such a wrapper? I have supplied a skeleton of the wrapper below, but you need to do the rest. In doubt, refer to the `InitMod` wrapper's code given above.\n",
    "\n",
    "Let's go!"
   ]
  },
  {
   "cell_type": "code",
   "execution_count": null,
   "metadata": {},
   "outputs": [],
   "source": [
    "class RoundObservation(____):    # Fill in the blanks with the correct class to derive from\n",
    "    def __init__(self, env, decimals):\n",
    "        # Your code goes here: implement this method to store decimals into an instance attribute\n",
    "    \n",
    "    def reset(self):\n",
    "        # Your code goes here: override the reset method to return rounded observation\n",
    "    \n",
    "    def step(self, action):\n",
    "        # Your code goes here: override the step method to return rounded observation"
   ]
  },
  {
   "cell_type": "markdown",
   "metadata": {},
   "source": [
    "# Now, let's check if it works!\n",
    "\n",
    "Fill in the blanks below to create the wrapped environment from a `CartPole-v0` environment. The number of decimal places to keep should be `2`."
   ]
  },
  {
   "cell_type": "code",
   "execution_count": null,
   "metadata": {},
   "outputs": [],
   "source": [
    "rounded_observation_cartpole_env = RoundObservation(env=____, decimals=____)"
   ]
  },
  {
   "cell_type": "markdown",
   "metadata": {},
   "source": [
    "## Run the code below. If the output has elements rounded to 2 decimal places, your wrapper works!"
   ]
  },
  {
   "cell_type": "code",
   "execution_count": null,
   "metadata": {},
   "outputs": [],
   "source": [
    "observation = rounded_observation_cartpole_env.reset()\n",
    "print(observation)"
   ]
  },
  {
   "cell_type": "markdown",
   "metadata": {},
   "source": [
    "## Run the code below. If the output has elements rounded to 2 decimal places, your wrapper works!"
   ]
  },
  {
   "cell_type": "code",
   "execution_count": null,
   "metadata": {},
   "outputs": [],
   "source": [
    "observation, reward, done, _ = rounded_observation_cartpole_env.step(0)\n",
    "print(observation)"
   ]
  },
  {
   "cell_type": "markdown",
   "metadata": {},
   "source": [
    "# If you managed to get it right, great job! This `RoundObservation` wrapper is going to play a crucial role in solving the `CartPole-v0` environment. Just wait and you'll see."
   ]
  }
 ],
 "metadata": {
  "kernelspec": {
   "display_name": "Python 3",
   "language": "python",
   "name": "python3"
  },
  "language_info": {
   "codemirror_mode": {
    "name": "ipython",
    "version": 3
   },
   "file_extension": ".py",
   "mimetype": "text/x-python",
   "name": "python",
   "nbconvert_exporter": "python",
   "pygments_lexer": "ipython3",
   "version": "3.6.12"
  }
 },
 "nbformat": 4,
 "nbformat_minor": 4
}
