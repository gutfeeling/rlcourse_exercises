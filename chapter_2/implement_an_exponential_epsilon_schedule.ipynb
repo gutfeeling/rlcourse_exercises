{
 "cells": [
  {
   "cell_type": "markdown",
   "id": "lesser-meditation",
   "metadata": {},
   "source": [
    "# Implement an exponential $\\epsilon$ schedule\n",
    "\n",
    "In the last lesson, we implemented a **linear** exponential schedule with the function `linear_schedule()`. The function is given below for our reference."
   ]
  },
  {
   "cell_type": "code",
   "execution_count": null,
   "id": "complimentary-latex",
   "metadata": {},
   "outputs": [],
   "source": [
    "def linear_schedule(step_num, end_step_num, start_step_num=0, end_value=0, start_value=1):\n",
    "    \"\"\"\n",
    "    Returns: the value of epsilon at step_num\n",
    "    y = slope * x + intercept\n",
    "    \"\"\"\n",
    "    return start_value + ((end_value - start_value) / (end_step_num - start_step_num)) * step_num"
   ]
  },
  {
   "cell_type": "markdown",
   "id": "assigned-piano",
   "metadata": {},
   "source": [
    "# Your job in this assignment is to implement an exponentially decreasing schedule \n",
    "\n",
    "- Use the equation `epsilon = a * exp(-b * step_num)` to model the exponentially decreading schedule.\n",
    "- You can calculate the correct values of `a` and `b`  by using the following conditions. \n",
    "    - `epsilon = start_value` at `step_num = start_step_num`\n",
    "    - `epsilon = end_value` at `step_num = end_step_num`.\n",
    "- Note: Since an exponential function can never take the value `0`, we use a very small value close to zero as the default `end_value` for `epsilon` (see the cell below). \n",
    "\n",
    "Ready? Your code goes below!"
   ]
  },
  {
   "cell_type": "code",
   "execution_count": null,
   "id": "solved-simulation",
   "metadata": {},
   "outputs": [],
   "source": [
    "from math import exp, log\n",
    "\n",
    "def exponential_schedule(step_num, end_step_num, start_step_num=0, end_value=0.0001, start_value=1):\n",
    "    \"\"\"\n",
    "    Returns: the value of epsilon at step_num assuming an exponentially decreasing schedule\n",
    "    epsilon = a * exp(-b * step_num)\n",
    "    \"\"\"\n",
    "    # Your code goes here"
   ]
  },
  {
   "cell_type": "markdown",
   "id": "overall-playing",
   "metadata": {},
   "source": [
    "# Check if your implementation is correct\n",
    "\n",
    "- Run the cells below.\n",
    "- The first cell should return `1.0`.\n",
    "- The second cell should return `0.0001`\n",
    "- The third cell should return a value around `0.00158`"
   ]
  },
  {
   "cell_type": "code",
   "execution_count": null,
   "id": "bibliographic-thailand",
   "metadata": {},
   "outputs": [],
   "source": [
    "exponential_schedule(0, 10000)"
   ]
  },
  {
   "cell_type": "code",
   "execution_count": null,
   "id": "binary-newport",
   "metadata": {},
   "outputs": [],
   "source": [
    "exponential_schedule(10000, 10000)"
   ]
  },
  {
   "cell_type": "code",
   "execution_count": null,
   "id": "allied-release",
   "metadata": {
    "scrolled": true
   },
   "outputs": [],
   "source": [
    "exponential_schedule(7000, 10000)"
   ]
  },
  {
   "cell_type": "markdown",
   "id": "innocent-raleigh",
   "metadata": {},
   "source": [
    "# Finally, plot the exponentially decreasing schedule for `end_step_num=1000`\n",
    "- Just run the cell below.\n",
    "- If your implementation was correct, you should see a beautiful exponentially decreasing curve."
   ]
  },
  {
   "cell_type": "code",
   "execution_count": null,
   "id": "metric-shareware",
   "metadata": {},
   "outputs": [],
   "source": [
    "%matplotlib notebook\n",
    "\n",
    "import matplotlib.pyplot as plt\n",
    "import numpy as np\n",
    "\n",
    "fig, ax = plt.subplots()\n",
    "step_nums = np.array([i for i in range(10000)])\n",
    "values = np.array([exponential_schedule(i, 10000) for i in range(10000)])\n",
    "ax.plot(step_nums, values)\n",
    "ax.set(xlabel=\"policy improvement steps\", ylabel=\"epsilon\", title=\"exponential epsilon schedule\")\n",
    "fig.show()"
   ]
  },
  {
   "cell_type": "markdown",
   "id": "violent-boutique",
   "metadata": {},
   "source": [
    "# If you managed to implement the function correctly, congrats! \n",
    "- A decreasing epsilon schedule means that the agent is still exploring till `end_step_num`, but the amount of exploration it is doing gets smaller and smaller as it approaches `end_step_num`. \n",
    "- At the end, the policy becomes a fully greedy policy, and we hope that we explored enough till `end_step_num` to see all state-action pairs of the MDP a sufficient number of times (the GLIE condition)."
   ]
  }
 ],
 "metadata": {
  "kernelspec": {
   "display_name": "Python 3",
   "language": "python",
   "name": "python3"
  },
  "language_info": {
   "codemirror_mode": {
    "name": "ipython",
    "version": 3
   },
   "file_extension": ".py",
   "mimetype": "text/x-python",
   "name": "python",
   "nbconvert_exporter": "python",
   "pygments_lexer": "ipython3",
   "version": "3.8.8"
  }
 },
 "nbformat": 4,
 "nbformat_minor": 5
}
