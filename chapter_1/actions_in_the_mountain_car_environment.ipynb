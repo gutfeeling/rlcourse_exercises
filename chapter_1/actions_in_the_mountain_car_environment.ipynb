{
 "cells": [
  {
   "cell_type": "markdown",
   "metadata": {},
   "source": [
    "# Actions in the `MountainCar-v0` environment\n",
    "\n",
    "In this exercise, we will investigate the possible actions of the tiny car in the `MountainCar-v0` environment.\n",
    "\n",
    "Here's what I have already done for you.\n",
    "\n",
    "1. I have written the code to setup the `MountainCar-v0` environment, bring it to its initial state, and store the initial observation of the agent in the variable `observation`.\n",
    "\n",
    "Here's what you I want you to do.\n",
    "\n",
    "1. Print out the action space of the `MountainCar-v0` environment. \n",
    "2. Based on the value of the action space, predict the number and values of possible actions in this environment.\n",
    "3. Find out what these actions mean."
   ]
  },
  {
   "cell_type": "code",
   "execution_count": null,
   "metadata": {},
   "outputs": [],
   "source": [
    "# Run this cell first\n",
    "import gym\n",
    "\n",
    "env = gym.make(\"MountainCar-v0\")\n",
    "observation = env.reset()"
   ]
  },
  {
   "cell_type": "code",
   "execution_count": null,
   "metadata": {},
   "outputs": [],
   "source": [
    "# Print out the action space"
   ]
  },
  {
   "cell_type": "markdown",
   "metadata": {},
   "source": [
    "## Fill in the blanks\n",
    "\n",
    "1. (fill in with a number) Based on the value of the action space, I predict that there are ____ possible actions in this environment.\n",
    "2. (fill in with a list) I predict that the values of allowed actions are ____ ."
   ]
  },
  {
   "cell_type": "markdown",
   "metadata": {},
   "source": [
    "Did you predict the correct values of the allowed actions? You can check that by calling `env.step()` with the values that you predicted. "
   ]
  },
  {
   "cell_type": "code",
   "execution_count": null,
   "metadata": {},
   "outputs": [],
   "source": [
    "# Take an action \n",
    "observation, _, _, _ = env.step(____)    # Fill in with different values that you predicted and run the cell repeatedly"
   ]
  },
  {
   "cell_type": "markdown",
   "metadata": {},
   "source": [
    "## What do the actions mean?\n",
    "\n",
    "In `CartPole-v0`, we found that the action `0` means that the cart moves to the left. We found that out by running a loop where the agent took the action `0` 30 times. We slowed down the loop with the `time.sleep()` function to visualize what was happening.\n",
    "\n",
    "Let's do the same thing for `MountainCar-v0` to find out what the actions means.\n",
    "\n",
    "Ready? Here's what I want you to do.\n",
    "\n",
    "1. For each action value that you found, run a slow-mo loop where the agent takes that action **100** times.\n",
    "2. The loop for each action should go in a different cell.\n",
    "3. Make sure to call `env.reset()` in each cell before you start the loop. \n",
    "4. Make sure to call `env.render()` after taking an action inside the loop to visualize what's going on.\n",
    "\n",
    "Your code goes in the cells below. GO!"
   ]
  },
  {
   "cell_type": "code",
   "execution_count": null,
   "metadata": {},
   "outputs": [],
   "source": [
    "# Run the loop for the first action value"
   ]
  },
  {
   "cell_type": "code",
   "execution_count": null,
   "metadata": {},
   "outputs": [],
   "source": [
    "# Create more cells for the loops corresponding to the other action values"
   ]
  },
  {
   "cell_type": "markdown",
   "metadata": {},
   "source": [
    "After seeing what happens in the loops, could you figure out what the actions mean? Verify what you found in the actions table in the [Wiki page for MountainCar-v0 on gym's GitHub repository](https://github.com/openai/gym/wiki/MountainCar-v0).\n",
    "\n",
    "If you guessed the meanings of the actions correctly, congratulations! More importantly, you just experienced the dynamics of this environment. This means you can now go ahead and experience the dynamics of *any* `gym` environment, as they all work in the same way. Isn't that great?"
   ]
  },
  {
   "cell_type": "code",
   "execution_count": null,
   "metadata": {},
   "outputs": [],
   "source": [
    "# Close the graphical window at the end of the exercise\n",
    "env.close()"
   ]
  }
 ],
 "metadata": {
  "kernelspec": {
   "display_name": "Python 3",
   "language": "python",
   "name": "python3"
  },
  "language_info": {
   "codemirror_mode": {
    "name": "ipython",
    "version": 3
   },
   "file_extension": ".py",
   "mimetype": "text/x-python",
   "name": "python",
   "nbconvert_exporter": "python",
   "pygments_lexer": "ipython3",
   "version": "3.6.12"
  }
 },
 "nbformat": 4,
 "nbformat_minor": 4
}
